{
 "cells": [
  {
   "cell_type": "code",
   "execution_count": 62,
   "metadata": {},
   "outputs": [],
   "source": [
    "from keras.layers import Layer\n",
    "from keras import backend as K\n",
    "from keras.layers import Dense, Flatten\n",
    "from keras.models import Sequential\n",
    "from keras.datasets import mnist\n",
    "import pandas as pd\n",
    "from keras.losses import binary_crossentropy\n",
    "from keras.utils import to_categorical\n",
    "from keras.callbacks import LambdaCallback\n",
    "import matplotlib.pyplot as plt"
   ]
  },
  {
   "cell_type": "code",
   "execution_count": 63,
   "metadata": {},
   "outputs": [],
   "source": [
    "(X_train, Y_train), (X_test, Y_test) = mnist.load_data()\n",
    "\n",
    "# normalization\n",
    "x_train = X_train.reshape(60000,784)/255\n",
    "x_test = X_test.reshape(10000,784)/255"
   ]
  },
  {
   "cell_type": "code",
   "execution_count": 64,
   "metadata": {},
   "outputs": [],
   "source": [
    "class RBFLayer(Layer):\n",
    "    def __init__(self, units, gamma, **kwargs):\n",
    "        super(RBFLayer, self).__init__(**kwargs)\n",
    "        self.units = units\n",
    "        self.gamma = K.cast_to_floatx(gamma)\n",
    "\n",
    "    def build(self, input_shape):\n",
    "#         print(input_shape)\n",
    "#         print(self.units)\n",
    "        self.mu = self.add_weight(name='mu',\n",
    "                                  shape=(int(input_shape[1]), self.units),\n",
    "                                  initializer='uniform',\n",
    "                                  trainable=True)\n",
    "        super(RBFLayer, self).build(input_shape)\n",
    "\n",
    "    def call(self, inputs):\n",
    "        diff = K.expand_dims(inputs) - self.mu\n",
    "        l2 = K.sum(K.pow(diff, 2), axis=1)\n",
    "        res = K.exp(-1 * self.gamma * l2)\n",
    "        return res\n",
    "\n",
    "    def compute_output_shape(self, input_shape):\n",
    "        return (input_shape[0], self.units)"
   ]
  },
  {
   "cell_type": "code",
   "execution_count": 68,
   "metadata": {},
   "outputs": [],
   "source": [
    "model = Sequential()\n",
    "model.add(Dense(28*28))\n",
    "model.add(RBFLayer(30, 0.5))\n",
    "model.add(Dense(10, activation='softmax', name='foo'))\n",
    "\n",
    "weights = []\n",
    "print_weights = LambdaCallback(on_epoch_end=lambda batch, logs: weights.append(model.get_weights()))\n",
    "\n",
    "model.compile(optimizer='rmsprop', loss='categorical_crossentropy', metrics=['accuracy'])"
   ]
  },
  {
   "cell_type": "code",
   "execution_count": 69,
   "metadata": {},
   "outputs": [
    {
     "name": "stdout",
     "output_type": "stream",
     "text": [
      "Train on 60000 samples, validate on 10000 samples\n",
      "Epoch 1/20\n",
      "60000/60000 [==============================] - 9s 147us/step - loss: 2.1078 - accuracy: 0.1966 - val_loss: 2.0103 - val_accuracy: 0.2261\n",
      "Epoch 2/20\n",
      "60000/60000 [==============================] - 9s 144us/step - loss: 1.9844 - accuracy: 0.2518 - val_loss: 1.9207 - val_accuracy: 0.2976\n",
      "Epoch 3/20\n",
      "60000/60000 [==============================] - 9s 144us/step - loss: 1.8746 - accuracy: 0.3142 - val_loss: 1.7008 - val_accuracy: 0.3840\n",
      "Epoch 4/20\n",
      "60000/60000 [==============================] - 9s 142us/step - loss: 1.6841 - accuracy: 0.4025 - val_loss: 1.7739 - val_accuracy: 0.3883\n",
      "Epoch 5/20\n",
      "60000/60000 [==============================] - 9s 145us/step - loss: 1.5073 - accuracy: 0.4762 - val_loss: 1.6059 - val_accuracy: 0.4659\n",
      "Epoch 6/20\n",
      "60000/60000 [==============================] - 9s 145us/step - loss: 1.4205 - accuracy: 0.5058 - val_loss: 1.1917 - val_accuracy: 0.6086\n",
      "Epoch 7/20\n",
      "60000/60000 [==============================] - 9s 144us/step - loss: 1.3529 - accuracy: 0.5423 - val_loss: 1.1187 - val_accuracy: 0.5972\n",
      "Epoch 8/20\n",
      "60000/60000 [==============================] - 9s 145us/step - loss: 1.2807 - accuracy: 0.5950 - val_loss: 1.1815 - val_accuracy: 0.6438\n",
      "Epoch 9/20\n",
      "60000/60000 [==============================] - 10s 158us/step - loss: 1.1900 - accuracy: 0.6561 - val_loss: 1.0537 - val_accuracy: 0.6903\n",
      "Epoch 10/20\n",
      "60000/60000 [==============================] - 9s 157us/step - loss: 1.1083 - accuracy: 0.6827 - val_loss: 1.0741 - val_accuracy: 0.7092\n",
      "Epoch 11/20\n",
      "60000/60000 [==============================] - 9s 152us/step - loss: 1.0408 - accuracy: 0.7003 - val_loss: 0.7707 - val_accuracy: 0.8079\n",
      "Epoch 12/20\n",
      "60000/60000 [==============================] - 9s 147us/step - loss: 0.9669 - accuracy: 0.7197 - val_loss: 0.9793 - val_accuracy: 0.7392\n",
      "Epoch 13/20\n",
      "60000/60000 [==============================] - 9s 144us/step - loss: 0.9125 - accuracy: 0.7344 - val_loss: 1.0773 - val_accuracy: 0.6652\n",
      "Epoch 14/20\n",
      "60000/60000 [==============================] - 9s 142us/step - loss: 0.8905 - accuracy: 0.7376 - val_loss: 0.8518 - val_accuracy: 0.7412\n",
      "Epoch 15/20\n",
      "60000/60000 [==============================] - 9s 142us/step - loss: 0.8507 - accuracy: 0.7495 - val_loss: 0.9578 - val_accuracy: 0.7378\n",
      "Epoch 16/20\n",
      "60000/60000 [==============================] - 8s 141us/step - loss: 0.8207 - accuracy: 0.7610 - val_loss: 0.9368 - val_accuracy: 0.7420\n",
      "Epoch 17/20\n",
      "60000/60000 [==============================] - 9s 142us/step - loss: 0.7876 - accuracy: 0.7684 - val_loss: 0.5378 - val_accuracy: 0.8626\n",
      "Epoch 18/20\n",
      "60000/60000 [==============================] - 9s 142us/step - loss: 0.7704 - accuracy: 0.7744 - val_loss: 0.4404 - val_accuracy: 0.8799\n",
      "Epoch 19/20\n",
      "60000/60000 [==============================] - 8s 141us/step - loss: 0.7415 - accuracy: 0.7831 - val_loss: 0.4025 - val_accuracy: 0.8900\n",
      "Epoch 20/20\n",
      "60000/60000 [==============================] - 8s 141us/step - loss: 0.7281 - accuracy: 0.7867 - val_loss: 0.6054 - val_accuracy: 0.8343\n"
     ]
    }
   ],
   "source": [
    "# training\n",
    "history1=model.fit(\n",
    "  x_train,\n",
    "  to_categorical(Y_train),\n",
    "  batch_size=100,\n",
    "  epochs=20,\n",
    "  validation_data=(x_test, to_categorical(Y_test)),\n",
    "  callbacks = [print_weights]\n",
    ")"
   ]
  },
  {
   "cell_type": "code",
   "execution_count": 71,
   "metadata": {},
   "outputs": [
    {
     "data": {
      "text/plain": [
       "<matplotlib.legend.Legend at 0x28184e81dd8>"
      ]
     },
     "execution_count": 71,
     "metadata": {},
     "output_type": "execute_result"
    },
    {
     "data": {
      "image/png": "[encoded data removed]",
      "text/plain": [
       "<Figure size 432x288 with 1 Axes>"
      ]
     },
     "metadata": {
      "needs_background": "light"
     },
     "output_type": "display_data"
    }
   ],
   "source": [
    "# model 1 Accuracy\n",
    "x = []\n",
    "for i in range(20):\n",
    "    x.append(i+1)\n",
    "    \n",
    "y_train = history1.history['accuracy']\n",
    "y_val = history1.history['val_accuracy']\n",
    "plt.title(\"Model accuracy with Gaussian\") \n",
    "plt.xlabel(\"Epoch\") \n",
    "plt.ylabel(\"Accurary\")\n",
    "plt.plot(x,y_train,'-',color='red',label='Train')\n",
    "plt.plot(x,y_val,'-',color='blue',label='Val')\n",
    "plt.legend(loc='upper left', shadow=True)"
   ]
  },
  {
   "cell_type": "code",
   "execution_count": null,
   "metadata": {},
   "outputs": [],
   "source": []
  }
 ],
 "metadata": {
  "kernelspec": {
   "display_name": "Python 3",
   "language": "python",
   "name": "python3"
  },
  "language_info": {
   "codemirror_mode": {
    "name": "ipython",
    "version": 3
   },
   "file_extension": ".py",
   "mimetype": "text/x-python",
   "name": "python",
   "nbconvert_exporter": "python",
   "pygments_lexer": "ipython3",
   "version": "3.7.3"
  }
 },
 "nbformat": 4,
 "nbformat_minor": 4
}
